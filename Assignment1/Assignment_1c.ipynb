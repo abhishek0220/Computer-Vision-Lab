{
 "cells": [
  {
   "cell_type": "code",
   "execution_count": 2,
   "id": "7de72c5d-77d0-4d79-8890-b8546fb88360",
   "metadata": {},
   "outputs": [],
   "source": [
    "from PIL import Image\n",
    "import matplotlib.pyplot as plt\n",
    "import numpy  as np\n",
    "import random\n",
    "from typing import Tuple, List"
   ]
  },
  {
   "cell_type": "code",
   "execution_count": 3,
   "id": "403b62dc-825a-43e0-b78e-5c3c6411280f",
   "metadata": {},
   "outputs": [],
   "source": [
    "random_img = np.zeros((200, 200), dtype=np.uint8)"
   ]
  },
  {
   "cell_type": "code",
   "execution_count": 4,
   "id": "0eb14960-d851-4d2e-b145-ca2d437da70c",
   "metadata": {},
   "outputs": [
    {
     "data": {
      "text/plain": [
       "<matplotlib.image.AxesImage at 0x2b15f53ca00>"
      ]
     },
     "execution_count": 4,
     "metadata": {},
     "output_type": "execute_result"
    },
    {
     "data": {
      "image/png": "[encoded data removed]",
      "text/plain": [
       "<Figure size 432x288 with 1 Axes>"
      ]
     },
     "metadata": {
      "needs_background": "light"
     },
     "output_type": "display_data"
    }
   ],
   "source": [
    "plt.imshow(random_img)"
   ]
  },
  {
   "cell_type": "code",
   "execution_count": 5,
   "id": "d74b3ed1-a5bf-45a9-b592-8272c7f0629f",
   "metadata": {},
   "outputs": [
    {
     "data": {
      "text/plain": [
       "<matplotlib.image.AxesImage at 0x2b161656a60>"
      ]
     },
     "execution_count": 5,
     "metadata": {},
     "output_type": "execute_result"
    },
    {
     "data": {
      "image/png": "[encoded data removed]",
      "text/plain": [
       "<Figure size 432x288 with 1 Axes>"
      ]
     },
     "metadata": {
      "needs_background": "light"
     },
     "output_type": "display_data"
    }
   ],
   "source": [
    "def createRandomComponent(np_image: np.ndarray, start: Tuple[int, int], end: Tuple[int, int]) -> np.ndarray:\n",
    "    \"\"\"\n",
    "    Creates a random component in a given image.\n",
    "    :param np_image: numpy array of image\n",
    "    :param start: start position of component\n",
    "    :param end: end position of component\n",
    "    :return: image with random component\n",
    "    \"\"\"\n",
    "    padding = 4\n",
    "    start = (start[0] + padding, start[1] + padding)\n",
    "    end = (end[0] - padding, end[1] - padding)\n",
    "    center = (random.randint(start[0], end[0]), random.randint(start[1], end[1]))\n",
    "    new_image = np.copy(np_image)\n",
    "    new_image[center[0]][center[1]] = 255\n",
    "    queue = [center]\n",
    "    def prob(param):\n",
    "        a = random.randint(10, 100)\n",
    "        if param < a and param < 90:\n",
    "            return True\n",
    "        return False\n",
    "    iter = 0\n",
    "    while len(queue) > 0:\n",
    "        tem = []\n",
    "        \n",
    "        for node in queue:\n",
    "            for x,y in (0,1), (0,-1), (1,0), (-1,0):\n",
    "                a,b = node[0]+x, node[1]+y\n",
    "                if start[0] <= a <= end[0] and start[1] <= b <= end[1] and new_image[a][b] == 0 and prob(iter):\n",
    "                    new_image[a][b] = 255\n",
    "                    tem.append((a,b))\n",
    "                    iter += 1\n",
    "        queue = tem\n",
    "    \n",
    "    return new_image\n",
    "nimg = createRandomComponent(random_img, (0,0), (200, 100))\n",
    "nimg = createRandomComponent(nimg, (0,100), (100, 200))\n",
    "nimg = createRandomComponent(nimg, (150, 100), (200, 200))\n",
    "plt.imshow(nimg)"
   ]
  },
  {
   "cell_type": "code",
   "execution_count": 6,
   "id": "35e8f703-5b05-458f-a77e-c8a37f03ae8c",
   "metadata": {},
   "outputs": [
    {
     "data": {
      "text/plain": [
       "<matplotlib.image.AxesImage at 0x2b1616cc5e0>"
      ]
     },
     "execution_count": 6,
     "metadata": {},
     "output_type": "execute_result"
    },
    {
     "data": {
      "image/png": "[encoded data removed]",
      "text/plain": [
       "<Figure size 432x288 with 1 Axes>"
      ]
     },
     "metadata": {
      "needs_background": "light"
     },
     "output_type": "display_data"
    }
   ],
   "source": [
    "plt.imshow(nimg, cmap=\"gray\")"
   ]
  },
  {
   "cell_type": "code",
   "execution_count": 7,
   "id": "da25687c-b3fc-46a0-9025-01d9d21caa78",
   "metadata": {},
   "outputs": [],
   "source": [
    "def _dfs(np_image, i, j, visited):\n",
    "    if i < 0 or i >= np_image.shape[0] or j < 0 or j >= np_image.shape[1] or np_image[i][j] != 255 or visited[i][j]:\n",
    "        return\n",
    "\n",
    "    visited[i][j] = True\n",
    "\n",
    "    _dfs(np_image, i-1, j, visited)\n",
    "    _dfs(np_image, i+1, j, visited)\n",
    "    _dfs(np_image, i, j-1, visited)\n",
    "    _dfs(np_image, i, j+1, visited)\n",
    "\n",
    "def noOfConnectedComponents(np_image: np.ndarray) -> int:\n",
    "    \"\"\"\n",
    "    Counts the number of connected components in the image.\n",
    "    :param np_image: numpy array of image\n",
    "    :return: (number of connected components, components coord)\n",
    "    \"\"\"\n",
    "    visited = np.zeros(np_image.shape, dtype=bool)\n",
    "    count = 0\n",
    "    comp = []\n",
    "    for i in range(np_image.shape[0]):\n",
    "        for j in range(np_image.shape[1]):\n",
    "            if np_image[i][j] == 255 and  visited[i][j] == False:\n",
    "                comp.append((i,j))\n",
    "                count += 1\n",
    "                _dfs(np_image, i, j, visited)\n",
    "    return count, comp\n",
    "count, comp = noOfConnectedComponents(nimg)"
   ]
  },
  {
   "cell_type": "code",
   "execution_count": 15,
   "id": "6238a504-30b1-4a00-ae64-2c9cf2219948",
   "metadata": {},
   "outputs": [
    {
     "data": {
      "text/plain": [
       "3"
      ]
     },
     "execution_count": 15,
     "metadata": {},
     "output_type": "execute_result"
    }
   ],
   "source": [
    "count"
   ]
  },
  {
   "cell_type": "code",
   "execution_count": 16,
   "id": "40e37e9f-b140-4ace-aa9a-d0d0715542ee",
   "metadata": {},
   "outputs": [
    {
     "data": {
      "text/plain": [
       "<matplotlib.image.AxesImage at 0x2b161917fa0>"
      ]
     },
     "execution_count": 16,
     "metadata": {},
     "output_type": "execute_result"
    },
    {
     "data": {
      "image/png": "[encoded data removed]",
      "text/plain": [
       "<Figure size 432x288 with 1 Axes>"
      ]
     },
     "metadata": {
      "needs_background": "light"
     },
     "output_type": "display_data"
    }
   ],
   "source": [
    "def _colordfs(np_image, i, j, color):\n",
    "    if i < 0 or i >= np_image.shape[0] or j < 0 or j >= np_image.shape[1] or np_image[i][j] != 255:\n",
    "        return\n",
    "    \n",
    "    np_image[i][j] = color\n",
    "\n",
    "    _colordfs(np_image, i-1, j, color)\n",
    "    _colordfs(np_image, i+1, j, color)\n",
    "    _colordfs(np_image, i, j-1, color)\n",
    "    _colordfs(np_image, i, j+1, color)\n",
    "\n",
    "def markConnectedComponents(np_image: np.ndarray, coords: List[Tuple[int, int]]) -> np.ndarray:\n",
    "    \"\"\"\n",
    "    Marks the connected components in the image.\n",
    "    :param np_image: numpy array of image\n",
    "    :return: image with connected components marked\n",
    "    \"\"\"\n",
    "    new_image = np.copy(np_image)\n",
    "    for ind, i in enumerate(coords):\n",
    "        color = (ind+1)*50\n",
    "        _colordfs(new_image, i[0], i[1], color)\n",
    "    return new_image\n",
    "ns = markConnectedComponents(nimg, comp)\n",
    "plt.imshow(ns)"
   ]
  },
  {
   "cell_type": "code",
   "execution_count": null,
   "id": "122ece86-0ecc-48b6-8091-0837f161c79c",
   "metadata": {},
   "outputs": [],
   "source": []
  }
 ],
 "metadata": {
  "kernelspec": {
   "display_name": "Python 3 (ipykernel)",
   "language": "python",
   "name": "python3"
  },
  "language_info": {
   "codemirror_mode": {
    "name": "ipython",
    "version": 3
   },
   "file_extension": ".py",
   "mimetype": "text/x-python",
   "name": "python",
   "nbconvert_exporter": "python",
   "pygments_lexer": "ipython3",
   "version": "3.9.6"
  }
 },
 "nbformat": 4,
 "nbformat_minor": 5
}
